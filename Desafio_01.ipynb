{
 "cells": [
  {
   "cell_type": "markdown",
   "metadata": {
    "colab_type": "text",
    "id": "view-in-github"
   },
   "source": [
    "![](https://i.imgur.com/YX6UATs.png)"
   ]
  },
  {
   "cell_type": "markdown",
   "metadata": {
    "colab_type": "text",
    "id": "SbLLE9q1eldC"
   },
   "source": [
    "### Desafio 1\n",
    "\n",
    "Escreva um programa em Python para contabilizar a quantidade de ocorrências de cada palavra."
   ]
  },
  {
   "cell_type": "code",
   "execution_count": 16,
   "metadata": {
    "colab": {},
    "colab_type": "code",
    "id": "WhtbdwFseldD"
   },
   "outputs": [
    {
     "name": "stdout",
     "output_type": "stream",
     "text": [
      "Counter({'pink': 6, 'black': 5, 'white': 5, 'red': 4, 'green': 4, 'orange': 4, 'eyes': 1})\n"
     ]
    }
   ],
   "source": [
    "import collections\n",
    "palavras = [\n",
    "   'red', 'green', 'black', 'pink', 'black', 'white', 'black', 'eyes',\n",
    "   'white', 'black', 'orange', 'pink', 'pink', 'red', 'red', 'white', 'orange',\n",
    "   'white', \"black\", 'pink', 'green', 'green', 'pink', 'green', 'pink',\n",
    "   'white', 'orange', \"orange\", 'red'\n",
    "]\n",
    "p = collections.Counter(palavras)\n",
    "print(p)"
   ]
  },
  {
   "cell_type": "code",
   "execution_count": 23,
   "metadata": {},
   "outputs": [
    {
     "name": "stdout",
     "output_type": "stream",
     "text": [
      "4\n"
     ]
    }
   ],
   "source": [
    "palavras1 = [\n",
    "   'red', 'green', 'black', 'pink', 'black', 'white', 'black', 'eyes',\n",
    "   'white', 'black', 'orange', 'pink', 'pink', 'red', 'red', 'white', 'orange',\n",
    "   'white', \"black\", 'pink', 'green', 'green', 'pink', 'green', 'pink',\n",
    "   'white', 'orange', \"orange\", 'red'\n",
    "]\n",
    "print(palavras1.count('red'))"
   ]
  },
  {
   "cell_type": "code",
   "execution_count": null,
   "metadata": {},
   "outputs": [],
   "source": []
  }
 ],
 "metadata": {
  "anaconda-cloud": {},
  "colab": {
   "include_colab_link": true,
   "name": "Desafio 1.ipynb",
   "provenance": []
  },
  "kernelspec": {
   "display_name": "Python 3",
   "language": "python",
   "name": "python3"
  },
  "language_info": {
   "codemirror_mode": {
    "name": "ipython",
    "version": 3
   },
   "file_extension": ".py",
   "mimetype": "text/x-python",
   "name": "python",
   "nbconvert_exporter": "python",
   "pygments_lexer": "ipython3",
   "version": "3.8.8"
  }
 },
 "nbformat": 4,
 "nbformat_minor": 4
}
