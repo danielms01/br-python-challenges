{
 "cells": [
  {
   "cell_type": "markdown",
   "metadata": {
    "colab_type": "text",
    "id": "view-in-github"
   },
   "source": [
    "![](https://i.imgur.com/YX6UATs.png)"
   ]
  },
  {
   "cell_type": "markdown",
   "metadata": {
    "colab_type": "text",
    "id": "o3tkeMDNf6Jo"
   },
   "source": [
    "### Desafio 8\n",
    "\n",
    "Escreva um script Python para encontrar as 10 palavras mais longas em um arquivo de texto.\n",
    "O arquivo .txt está localizado na mesma pasta do projeto (**texto.txt**)."
   ]
  },
  {
   "cell_type": "code",
   "execution_count": 1,
   "metadata": {},
   "outputs": [],
   "source": [
    "texto = \"./texto.txt\""
   ]
  },
  {
   "cell_type": "code",
   "execution_count": 2,
   "metadata": {},
   "outputs": [
    {
     "name": "stdout",
     "output_type": "stream",
     "text": [
      "What is Python language?                                                \n",
      "Python is a widely used high-level, general-purpose, interpreted, dynamic programming language.Its design philosophy emphasizes code readability, and its syntax allows programmers to express concepts in fewer lines of code than possible in \n",
      "languages such as C++ or Java. \n",
      "Python supports multiple programming paradigms, including object-oriented, imperative and functional programming or procedural styles.It features a dynamic type system and automatic memory management and has a large and comprehensive standard library.The best way we learn anything is by practice and exercise questions. We  have started this section for those (beginner to intermediate) who are familiar with Python.\n"
     ]
    }
   ],
   "source": [
    "with open(texto,\"r\") as arquivo:\n",
    "    texto_desafio = arquivo.read()\n",
    "print(texto_desafio)"
   ]
  },
  {
   "cell_type": "code",
   "execution_count": 3,
   "metadata": {},
   "outputs": [
    {
     "name": "stdout",
     "output_type": "stream",
     "text": [
      "['What', 'is', 'Python', 'language?']\n",
      "['Python', 'is', 'a', 'widely', 'used', 'high-level,', 'general-purpose,', 'interpreted,', 'dynamic', 'programming', 'language.Its', 'design', 'philosophy', 'emphasizes', 'code', 'readability,', 'and', 'its', 'syntax', 'allows', 'programmers', 'to', 'express', 'concepts', 'in', 'fewer', 'lines', 'of', 'code', 'than', 'possible', 'in']\n",
      "['languages', 'such', 'as', 'C++', 'or', 'Java.']\n",
      "['Python', 'supports', 'multiple', 'programming', 'paradigms,', 'including', 'object-oriented,', 'imperative', 'and', 'functional', 'programming', 'or', 'procedural', 'styles.It', 'features', 'a', 'dynamic', 'type', 'system', 'and', 'automatic', 'memory', 'management', 'and', 'has', 'a', 'large', 'and', 'comprehensive', 'standard', 'library.The', 'best', 'way', 'we', 'learn', 'anything', 'is', 'by', 'practice', 'and', 'exercise', 'questions.', 'We', 'have', 'started', 'this', 'section', 'for', 'those', '(beginner', 'to', 'intermediate)', 'who', 'are', 'familiar', 'with', 'Python.']\n"
     ]
    }
   ],
   "source": [
    "with open(texto,\"r\") as arquivo:\n",
    "    for linha1 in arquivo:\n",
    "        texto_palavras = linha1.split()\n",
    "        print(texto_palavras)"
   ]
  },
  {
   "cell_type": "code",
   "execution_count": 10,
   "metadata": {},
   "outputs": [
    {
     "data": {
      "text/plain": [
       "['object-oriented,',\n",
       " 'intermediate)',\n",
       " 'comprehensive',\n",
       " 'library.The',\n",
       " 'programming',\n",
       " 'procedural',\n",
       " 'paradigms,',\n",
       " 'imperative',\n",
       " 'functional',\n",
       " 'management',\n",
       " 'questions.',\n",
       " 'including',\n",
       " 'styles.It',\n",
       " 'automatic',\n",
       " '(beginner',\n",
       " 'multiple',\n",
       " 'familiar',\n",
       " 'supports',\n",
       " 'features',\n",
       " 'practice',\n",
       " 'anything',\n",
       " 'exercise',\n",
       " 'standard',\n",
       " 'dynamic',\n",
       " 'section',\n",
       " 'started',\n",
       " 'Python.',\n",
       " 'Python',\n",
       " 'system',\n",
       " 'memory',\n",
       " 'learn',\n",
       " 'large',\n",
       " 'those',\n",
       " 'best',\n",
       " 'type',\n",
       " 'with',\n",
       " 'have',\n",
       " 'this',\n",
       " 'has',\n",
       " 'are',\n",
       " 'way',\n",
       " 'who',\n",
       " 'for',\n",
       " 'and',\n",
       " 'or',\n",
       " 'We',\n",
       " 'to',\n",
       " 'we',\n",
       " 'is',\n",
       " 'by',\n",
       " 'a']"
      ]
     },
     "execution_count": 10,
     "metadata": {},
     "output_type": "execute_result"
    }
   ],
   "source": [
    "sorted(set(texto_palavras), key = len, reverse = True)"
   ]
  },
  {
   "cell_type": "code",
   "execution_count": 13,
   "metadata": {},
   "outputs": [
    {
     "data": {
      "text/plain": [
       "['functional',\n",
       " 'procedural',\n",
       " 'management',\n",
       " 'questions.',\n",
       " 'programming',\n",
       " 'programming',\n",
       " 'library.The',\n",
       " 'comprehensive',\n",
       " 'intermediate)',\n",
       " 'object-oriented,']"
      ]
     },
     "execution_count": 13,
     "metadata": {},
     "output_type": "execute_result"
    }
   ],
   "source": [
    "sorted(texto_palavras, key=len)[-10:]"
   ]
  },
  {
   "cell_type": "code",
   "execution_count": null,
   "metadata": {},
   "outputs": [],
   "source": []
  }
 ],
 "metadata": {
  "anaconda-cloud": {},
  "colab": {
   "include_colab_link": true,
   "name": "Desafio 8.ipynb",
   "provenance": []
  },
  "kernelspec": {
   "display_name": "Python 3",
   "language": "python",
   "name": "python3"
  },
  "language_info": {
   "codemirror_mode": {
    "name": "ipython",
    "version": 3
   },
   "file_extension": ".py",
   "mimetype": "text/x-python",
   "name": "python",
   "nbconvert_exporter": "python",
   "pygments_lexer": "ipython3",
   "version": "3.8.8"
  }
 },
 "nbformat": 4,
 "nbformat_minor": 4
}
